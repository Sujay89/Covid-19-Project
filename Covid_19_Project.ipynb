{
  "nbformat": 4,
  "nbformat_minor": 0,
  "metadata": {
    "colab": {
      "name": "Covid 19 Project.ipynb",
      "provenance": []
    },
    "kernelspec": {
      "name": "python3",
      "display_name": "Python 3"
    },
    "language_info": {
      "name": "python"
    }
  },
  "cells": [
    {
      "cell_type": "markdown",
      "metadata": {
        "id": "bDbE1Q2GVVhx"
      },
      "source": [
        "Covid_19 **Project**"
      ]
    },
    {
      "cell_type": "code",
      "metadata": {
        "id": "JYVVbAsmVmTO"
      },
      "source": [
        "import pandas as pd\n",
        "import numpy as np\n",
        "from sklearn import model_selection\n",
        "from sklearn.linear_model import LinearRegression\n",
        "import matplotlib.pyplot as plt"
      ],
      "execution_count": null,
      "outputs": []
    },
    {
      "cell_type": "code",
      "metadata": {
        "colab": {
          "base_uri": "https://localhost:8080/",
          "height": 203
        },
        "id": "AFRAhBUKWcgP",
        "outputId": "c2cc9bbd-ada0-49f5-ff09-cb0c4dce28dd"
      },
      "source": [
        "#Importing and reading file using pandas\n",
        "data = pd.read_csv('covid_data.csv')\n",
        "data.head()"
      ],
      "execution_count": null,
      "outputs": [
        {
          "output_type": "execute_result",
          "data": {
            "text/html": [
              "<div>\n",
              "<style scoped>\n",
              "    .dataframe tbody tr th:only-of-type {\n",
              "        vertical-align: middle;\n",
              "    }\n",
              "\n",
              "    .dataframe tbody tr th {\n",
              "        vertical-align: top;\n",
              "    }\n",
              "\n",
              "    .dataframe thead th {\n",
              "        text-align: right;\n",
              "    }\n",
              "</style>\n",
              "<table border=\"1\" class=\"dataframe\">\n",
              "  <thead>\n",
              "    <tr style=\"text-align: right;\">\n",
              "      <th></th>\n",
              "      <th>cases</th>\n",
              "      <th>increasingrate</th>\n",
              "      <th>decreasingrate</th>\n",
              "      <th>time</th>\n",
              "    </tr>\n",
              "  </thead>\n",
              "  <tbody>\n",
              "    <tr>\n",
              "      <th>0</th>\n",
              "      <td>18</td>\n",
              "      <td>15.960</td>\n",
              "      <td>53.13</td>\n",
              "      <td>1121.8739</td>\n",
              "    </tr>\n",
              "    <tr>\n",
              "      <th>1</th>\n",
              "      <td>21</td>\n",
              "      <td>16.815</td>\n",
              "      <td>52.58</td>\n",
              "      <td>1131.5066</td>\n",
              "    </tr>\n",
              "    <tr>\n",
              "      <th>2</th>\n",
              "      <td>38</td>\n",
              "      <td>16.815</td>\n",
              "      <td>50.38</td>\n",
              "      <td>1135.9407</td>\n",
              "    </tr>\n",
              "    <tr>\n",
              "      <th>3</th>\n",
              "      <td>26</td>\n",
              "      <td>17.195</td>\n",
              "      <td>49.06</td>\n",
              "      <td>1136.3994</td>\n",
              "    </tr>\n",
              "    <tr>\n",
              "      <th>4</th>\n",
              "      <td>18</td>\n",
              "      <td>17.290</td>\n",
              "      <td>48.07</td>\n",
              "      <td>1137.0110</td>\n",
              "    </tr>\n",
              "  </tbody>\n",
              "</table>\n",
              "</div>"
            ],
            "text/plain": [
              "   cases  increasingrate  decreasingrate       time\n",
              "0     18          15.960           53.13  1121.8739\n",
              "1     21          16.815           52.58  1131.5066\n",
              "2     38          16.815           50.38  1135.9407\n",
              "3     26          17.195           49.06  1136.3994\n",
              "4     18          17.290           48.07  1137.0110"
            ]
          },
          "metadata": {},
          "execution_count": 2
        }
      ]
    },
    {
      "cell_type": "code",
      "metadata": {
        "id": "5uNxElYTXM4A"
      },
      "source": [
        "#using Multi-linear regression as the values are continuous\n",
        "#x : independent variable; y:dependent variable\n",
        "y = data['time']\n",
        "x = data[['cases', 'increasingrate', 'decreasingrate']]"
      ],
      "execution_count": null,
      "outputs": []
    },
    {
      "cell_type": "code",
      "metadata": {
        "id": "D1rqlZk2YWc3"
      },
      "source": [
        "#Function named CasesReg for using LinearRegression model\n",
        "def CasesReg(x,y) : \n",
        "  from sklearn.linear_model import LinearRegression\n",
        "\n",
        "  reg =  LinearRegression()\n",
        "\n",
        "  #Traing the model with given data\n",
        "  reg.fit(x,y)\n",
        "  return reg"
      ],
      "execution_count": null,
      "outputs": []
    },
    {
      "cell_type": "code",
      "metadata": {
        "id": "lUzr6S-9ZljO"
      },
      "source": [
        "#train_test_split function is used for splitting the data\n",
        "#arrays into two subsets: for traning data and testing data\n",
        "\n",
        "x_train, x_test, y_train, y_test = model_selection.train_test_split(x,y)"
      ],
      "execution_count": null,
      "outputs": []
    },
    {
      "cell_type": "code",
      "metadata": {
        "id": "dvz3NINpabu2"
      },
      "source": [
        "#passing the training data  to linear regression model\n",
        "reg = CasesReg(x,y)"
      ],
      "execution_count": null,
      "outputs": []
    },
    {
      "cell_type": "code",
      "metadata": {
        "colab": {
          "base_uri": "https://localhost:8080/"
        },
        "id": "nZb81Y3ta1Ck",
        "outputId": "3249f8a1-570e-44a0-df2b-4ba28332c1d6"
      },
      "source": [
        "#Using predict() function to get predicted value of y\n",
        "y_pred = reg.predict(x_test)\n",
        "y_pred"
      ],
      "execution_count": null,
      "outputs": [
        {
          "output_type": "execute_result",
          "data": {
            "text/plain": [
              "array([ 3.17437652e+04,  4.54730114e+03,  1.80737350e+04, -5.58456521e+02,\n",
              "        3.62614294e+04,  1.55657410e+04, -1.74796975e+03,  4.37351938e+01,\n",
              "        1.75803121e+04,  9.25720522e+03,  9.62490864e+03,  8.27561726e+03,\n",
              "        1.46022541e+04,  1.31862829e+04,  1.82470703e+04,  3.00361305e+04,\n",
              "        1.24943027e+03,  2.03590363e+04,  1.59735521e+04,  3.77467034e+04,\n",
              "        4.55080993e+03,  5.69223495e+03,  9.69980641e+03,  2.60873828e+04,\n",
              "        3.38429752e+04,  9.12211737e+03,  1.80451004e+03, -9.26860383e+03,\n",
              "        3.67366314e+04,  1.60406910e+04, -8.51933001e+02,  6.34692687e+03,\n",
              "       -2.17460502e+02,  3.73727703e+03,  1.42387360e+04,  1.31542770e+04,\n",
              "       -9.09342950e+01,  2.91505579e+04,  9.47537717e+03,  5.99983463e+03,\n",
              "        4.00157815e+03,  2.48170384e+04,  1.76809088e+04,  2.31603075e+04,\n",
              "        3.36085732e+04,  1.33151019e+04,  1.76599356e+04,  2.29046510e+04,\n",
              "        1.18509056e+04,  3.24693466e+03,  2.47528198e+04,  1.08655034e+04,\n",
              "        6.16071021e+03,  4.89591823e+03, -6.13689462e+03,  6.30976189e+03,\n",
              "       -3.00110881e+03,  8.20823439e+03,  1.84848428e+03, -2.74385019e+03,\n",
              "        9.06354838e+03,  3.34363702e+04,  5.64680679e+02,  1.54441986e+04,\n",
              "        9.21930145e+03, -1.42357311e+03,  4.69405014e+03,  2.20182301e+04,\n",
              "        2.08490359e+04,  4.02418796e+04,  3.63233229e+04,  1.00281551e+04,\n",
              "        2.24810391e+04,  3.47564523e+04, -5.33394466e+03,  3.72077599e+04,\n",
              "       -3.84739428e+02,  1.85043280e+04,  2.15008822e+04,  3.98196340e+04,\n",
              "        1.78905108e+04,  2.31195109e+04, -3.58060998e+03,  2.72890948e+03,\n",
              "        1.71811680e+04,  5.98232379e+03,  2.42908119e+04, -4.86592766e+03,\n",
              "        8.06144887e+03,  1.62801905e+04,  1.49652941e+04,  8.47136506e+03,\n",
              "        2.19770640e+04,  2.51877119e+04,  1.38996190e+03,  2.14421165e+04,\n",
              "        9.25697113e+03, -8.98074610e+02,  2.42613323e+02,  1.73343818e+04,\n",
              "       -5.70869755e+02, -9.00820562e+02,  3.15040307e+04,  3.10195513e+04,\n",
              "        2.47038210e+04,  1.31966392e+04,  2.49654144e+04,  1.29005297e+04,\n",
              "        1.45100348e+04,  1.33411835e+04,  1.39477000e+04,  1.42426291e+04,\n",
              "        2.73969376e+04,  2.56881159e+04,  1.43250217e+04,  2.42966126e+04,\n",
              "        4.18421299e+03,  3.48482888e+04,  4.57072307e+03, -8.60236761e+03,\n",
              "        4.77458587e+03,  3.35687478e+04,  1.20197047e+03, -1.26423906e+03,\n",
              "        2.26332817e+04,  7.71300275e+03,  1.87941081e+04,  1.47807260e+04,\n",
              "        1.72472477e+04,  2.13622465e+04,  3.02157214e+04,  1.68430416e+04,\n",
              "        5.17796431e+04,  1.21908789e+04,  1.54729008e+04,  2.00135230e+04,\n",
              "        2.30531997e+04,  6.28076087e+03,  8.69227305e+03, -1.60003616e+03,\n",
              "        2.95672137e+04,  1.65801932e+04,  4.33359774e+02,  1.18804976e+04,\n",
              "        3.51393265e+04,  1.74362677e+03,  1.89013537e+04,  2.03108377e+04,\n",
              "        4.66441082e+03, -2.28357880e+03,  5.46780740e+03,  3.17617575e+04,\n",
              "       -1.84558466e+03,  2.10476160e+04,  3.17297175e+04, -2.53715511e+03,\n",
              "        3.84334250e+04,  1.29346889e+04,  2.74451362e+04,  3.17726699e+04,\n",
              "       -1.37672924e+03,  9.20912778e+03,  1.31546464e+04,  3.35148855e+04,\n",
              "        2.52982302e+03,  2.61704678e+04,  3.65206711e+04, -5.15522537e+03,\n",
              "       -2.88399912e+03,  2.10646711e+04,  2.38559189e+04,  2.46287531e+04,\n",
              "        3.40069288e+04,  2.57970109e+04,  1.68196197e+04,  1.61757655e+04,\n",
              "        1.19413925e+04,  2.78213249e+04,  6.06430057e+03,  7.23306476e+03,\n",
              "        4.20160266e+03,  1.00714030e+04,  2.20658127e+04,  1.17586954e+04,\n",
              "        4.36246326e+03,  1.90950471e+04,  2.38739095e+04,  1.63165810e+04,\n",
              "        1.58548910e+04,  5.43205330e+02,  1.47391798e+04,  1.14537321e+04,\n",
              "        7.65114830e+03,  2.52831478e+04,  2.56641536e+04,  1.97839820e+04,\n",
              "        1.13476311e+04,  1.92706485e+04, -3.65073627e+03,  1.54282042e+03,\n",
              "        2.36631262e+04, -4.41955614e+03,  4.94158089e+03, -9.50540893e+03,\n",
              "        9.38092489e+03,  3.37664796e+04,  1.06304464e+04,  9.50893457e+03,\n",
              "        3.70573201e+04,  8.87655642e+03,  3.20527934e+04,  1.11920034e+04,\n",
              "        1.34990406e+03,  8.66658495e+03, -6.40565671e+03,  2.16368549e+04,\n",
              "        1.93020290e+03,  1.48861025e+03,  7.31017549e+03,  3.74964314e+04,\n",
              "        2.14049781e+04, -1.90692515e+02,  2.31839279e+04,  1.09285293e+03,\n",
              "        1.58002177e+04,  2.15636616e+03,  7.47410499e+03,  5.75199760e+03,\n",
              "        4.88697727e+03,  1.17048331e+04,  1.36492629e+04,  1.36929798e+04,\n",
              "        1.85603104e+04,  1.41294118e+04,  1.17575150e+04,  7.70940678e+03,\n",
              "        5.08172898e+03,  8.64702959e+03, -1.14987785e+03,  1.67472720e+04,\n",
              "        1.88754938e+04,  3.04499186e+03, -6.22095580e+03,  2.58422909e+04,\n",
              "        3.56019496e+04,  3.88714476e+03,  1.14063485e+03,  2.57459319e+04,\n",
              "        1.43761398e+04,  5.47794287e+03,  3.23429979e+03,  6.79572222e+03,\n",
              "       -1.44891504e+03,  8.34983767e+03,  2.32865424e+04,  2.61985823e+04,\n",
              "        1.20688443e+04, -5.91059857e+03,  2.93663159e+04,  2.30232524e+04,\n",
              "       -1.59660274e+02,  1.87639499e+04,  1.90994167e+04, -2.54785754e+03,\n",
              "        7.34879397e+03,  3.27166952e+04,  8.22755651e+03,  1.99473196e+04,\n",
              "        2.53203493e+04,  7.52837489e+03,  2.23351650e+04,  3.54071746e+04,\n",
              "       -1.27327711e+03,  2.44750587e+04, -4.05248195e+03, -4.08161366e+02,\n",
              "        9.32685340e+03,  5.52985858e+03,  8.39797230e+03,  7.08745875e+03,\n",
              "        2.59684403e+04,  1.37321146e+04,  1.12338236e+04,  1.70048137e+04,\n",
              "        6.01760172e+02,  1.63063210e+04,  1.16052724e+04,  1.66629079e+04,\n",
              "        1.27951310e+04,  3.03460196e+04,  2.71412919e+04,  1.99311510e+04,\n",
              "        2.86142208e+04,  5.68367837e+03,  1.85138617e+04,  1.62761272e+04,\n",
              "        1.86690079e+04,  1.63346821e+04,  7.19949660e+03,  2.49439000e+04,\n",
              "        2.39910192e+04,  2.40230252e+04,  1.99356087e+04,  2.92047780e+04,\n",
              "        1.34567292e+04,  6.38362198e+03,  2.66622529e+04,  1.81069222e+04,\n",
              "        2.17986776e+04, -3.83786776e+03, -1.45870602e+03,  1.41279201e+04,\n",
              "        1.42793251e+04,  1.72274217e+04,  1.36102400e+03,  2.29160067e+04,\n",
              "        1.09906160e+04,  6.48902069e+03,  9.84175248e+03,  3.19514614e+04,\n",
              "       -5.72114078e+02,  5.17698147e+03,  1.92654105e+02,  3.22471874e+04,\n",
              "       -1.98128464e+02,  1.87100511e+04,  8.41281022e+03,  3.97107636e+03,\n",
              "        2.10658664e+04,  1.61574171e+04,  2.33761677e+04, -2.16334216e+03,\n",
              "        1.43090018e+04,  2.53563589e+04,  2.10966762e+04])"
            ]
          },
          "metadata": {},
          "execution_count": 17
        }
      ]
    },
    {
      "cell_type": "code",
      "metadata": {
        "colab": {
          "base_uri": "https://localhost:8080/"
        },
        "id": "FoVNu28Pc_Ec",
        "outputId": "44ddcdba-b8b7-4169-f2b4-8cf368ae756f"
      },
      "source": [
        "#Calculating efficiency on training data\n",
        "reg.score(x_train, y_train)"
      ],
      "execution_count": null,
      "outputs": [
        {
          "output_type": "execute_result",
          "data": {
            "text/plain": [
              "0.8529274405463109"
            ]
          },
          "metadata": {},
          "execution_count": 19
        }
      ]
    },
    {
      "cell_type": "code",
      "metadata": {
        "colab": {
          "base_uri": "https://localhost:8080/"
        },
        "id": "4Kd_9_nwdqMg",
        "outputId": "c027001a-2277-45d7-cb6a-807b15b15637"
      },
      "source": [
        "#calculating efficiency on testing data\n",
        "reg.score(x_test, y_test)"
      ],
      "execution_count": null,
      "outputs": [
        {
          "output_type": "execute_result",
          "data": {
            "text/plain": [
              "0.8789859337148076"
            ]
          },
          "metadata": {},
          "execution_count": 20
        }
      ]
    },
    {
      "cell_type": "code",
      "metadata": {
        "colab": {
          "base_uri": "https://localhost:8080/",
          "height": 279
        },
        "id": "4SICaYYFd9PQ",
        "outputId": "aadf2c4c-19dc-48b0-ee48-3cc0a7de6f3c"
      },
      "source": [
        "#Plotting the Graph\n",
        "\n",
        "plt.plot(x, reg.predict(x),'*')# *(asterisks) is used as we want sccatter plot\n",
        "plt.legend(labels=['cases', 'increasingrate', 'decreasingrate'])\n",
        "plt.xlabel(\"cases rate\")\n",
        "plt.ylabel(\"Time\")\n",
        "plt.show()"
      ],
      "execution_count": null,
      "outputs": [
        {
          "output_type": "display_data",
          "data": {
            "image/png": "[encoded data removed]",
            "text/plain": [
              "<Figure size 432x288 with 1 Axes>"
            ]
          },
          "metadata": {
            "needs_background": "light"
          }
        }
      ]
    }
  ]
}